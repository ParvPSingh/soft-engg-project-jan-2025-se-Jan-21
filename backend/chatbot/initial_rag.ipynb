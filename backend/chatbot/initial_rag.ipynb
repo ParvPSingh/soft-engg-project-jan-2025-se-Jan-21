{
 "cells": [
  {
   "cell_type": "code",
   "execution_count": 1,
   "metadata": {},
   "outputs": [
    {
     "name": "stdout",
     "output_type": "stream",
     "text": [
      "Requirement already satisfied: python-dotenv in d:\\desktop\\soft-engg-project-jan-2025-se-jan-21-main\\soft-engg-project-jan-2025-se-jan-21-main\\.venv\\lib\\site-packages (1.0.1)\n",
      "Note: you may need to restart the kernel to use updated packages.\n"
     ]
    },
    {
     "data": {
      "text/plain": [
       "True"
      ]
     },
     "execution_count": 1,
     "metadata": {},
     "output_type": "execute_result"
    }
   ],
   "source": [
    "%pip install python-dotenv\n",
    "from dotenv import load_dotenv\n",
    "import os \n",
    "load_dotenv()"
   ]
  },
  {
   "cell_type": "code",
   "execution_count": 2,
   "metadata": {},
   "outputs": [
    {
     "name": "stdout",
     "output_type": "stream",
     "text": [
      "Requirement already satisfied: langchain in d:\\desktop\\soft-engg-project-jan-2025-se-jan-21-main\\soft-engg-project-jan-2025-se-jan-21-main\\.venv\\lib\\site-packages (0.3.20)\n",
      "Requirement already satisfied: langchain-core<1.0.0,>=0.3.41 in d:\\desktop\\soft-engg-project-jan-2025-se-jan-21-main\\soft-engg-project-jan-2025-se-jan-21-main\\.venv\\lib\\site-packages (from langchain) (0.3.41)\n",
      "Requirement already satisfied: langchain-text-splitters<1.0.0,>=0.3.6 in d:\\desktop\\soft-engg-project-jan-2025-se-jan-21-main\\soft-engg-project-jan-2025-se-jan-21-main\\.venv\\lib\\site-packages (from langchain) (0.3.6)\n",
      "Requirement already satisfied: langsmith<0.4,>=0.1.17 in d:\\desktop\\soft-engg-project-jan-2025-se-jan-21-main\\soft-engg-project-jan-2025-se-jan-21-main\\.venv\\lib\\site-packages (from langchain) (0.3.11)\n",
      "Requirement already satisfied: pydantic<3.0.0,>=2.7.4 in d:\\desktop\\soft-engg-project-jan-2025-se-jan-21-main\\soft-engg-project-jan-2025-se-jan-21-main\\.venv\\lib\\site-packages (from langchain) (2.10.6)\n",
      "Requirement already satisfied: SQLAlchemy<3,>=1.4 in d:\\desktop\\soft-engg-project-jan-2025-se-jan-21-main\\soft-engg-project-jan-2025-se-jan-21-main\\.venv\\lib\\site-packages (from langchain) (2.0.38)\n",
      "Requirement already satisfied: requests<3,>=2 in d:\\desktop\\soft-engg-project-jan-2025-se-jan-21-main\\soft-engg-project-jan-2025-se-jan-21-main\\.venv\\lib\\site-packages (from langchain) (2.32.3)\n",
      "Requirement already satisfied: PyYAML>=5.3 in d:\\desktop\\soft-engg-project-jan-2025-se-jan-21-main\\soft-engg-project-jan-2025-se-jan-21-main\\.venv\\lib\\site-packages (from langchain) (6.0.2)\n",
      "Requirement already satisfied: tenacity!=8.4.0,<10.0.0,>=8.1.0 in d:\\desktop\\soft-engg-project-jan-2025-se-jan-21-main\\soft-engg-project-jan-2025-se-jan-21-main\\.venv\\lib\\site-packages (from langchain-core<1.0.0,>=0.3.41->langchain) (9.0.0)\n",
      "Requirement already satisfied: jsonpatch<2.0,>=1.33 in d:\\desktop\\soft-engg-project-jan-2025-se-jan-21-main\\soft-engg-project-jan-2025-se-jan-21-main\\.venv\\lib\\site-packages (from langchain-core<1.0.0,>=0.3.41->langchain) (1.33)\n",
      "Requirement already satisfied: packaging<25,>=23.2 in d:\\desktop\\soft-engg-project-jan-2025-se-jan-21-main\\soft-engg-project-jan-2025-se-jan-21-main\\.venv\\lib\\site-packages (from langchain-core<1.0.0,>=0.3.41->langchain) (24.2)\n",
      "Requirement already satisfied: typing-extensions>=4.7 in d:\\desktop\\soft-engg-project-jan-2025-se-jan-21-main\\soft-engg-project-jan-2025-se-jan-21-main\\.venv\\lib\\site-packages (from langchain-core<1.0.0,>=0.3.41->langchain) (4.12.2)\n",
      "Requirement already satisfied: httpx<1,>=0.23.0 in d:\\desktop\\soft-engg-project-jan-2025-se-jan-21-main\\soft-engg-project-jan-2025-se-jan-21-main\\.venv\\lib\\site-packages (from langsmith<0.4,>=0.1.17->langchain) (0.28.1)\n",
      "Requirement already satisfied: orjson<4.0.0,>=3.9.14 in d:\\desktop\\soft-engg-project-jan-2025-se-jan-21-main\\soft-engg-project-jan-2025-se-jan-21-main\\.venv\\lib\\site-packages (from langsmith<0.4,>=0.1.17->langchain) (3.10.15)\n",
      "Requirement already satisfied: requests-toolbelt<2.0.0,>=1.0.0 in d:\\desktop\\soft-engg-project-jan-2025-se-jan-21-main\\soft-engg-project-jan-2025-se-jan-21-main\\.venv\\lib\\site-packages (from langsmith<0.4,>=0.1.17->langchain) (1.0.0)\n",
      "Requirement already satisfied: zstandard<0.24.0,>=0.23.0 in d:\\desktop\\soft-engg-project-jan-2025-se-jan-21-main\\soft-engg-project-jan-2025-se-jan-21-main\\.venv\\lib\\site-packages (from langsmith<0.4,>=0.1.17->langchain) (0.23.0)\n",
      "Requirement already satisfied: annotated-types>=0.6.0 in d:\\desktop\\soft-engg-project-jan-2025-se-jan-21-main\\soft-engg-project-jan-2025-se-jan-21-main\\.venv\\lib\\site-packages (from pydantic<3.0.0,>=2.7.4->langchain) (0.7.0)\n",
      "Requirement already satisfied: pydantic-core==2.27.2 in d:\\desktop\\soft-engg-project-jan-2025-se-jan-21-main\\soft-engg-project-jan-2025-se-jan-21-main\\.venv\\lib\\site-packages (from pydantic<3.0.0,>=2.7.4->langchain) (2.27.2)\n",
      "Requirement already satisfied: charset-normalizer<4,>=2 in d:\\desktop\\soft-engg-project-jan-2025-se-jan-21-main\\soft-engg-project-jan-2025-se-jan-21-main\\.venv\\lib\\site-packages (from requests<3,>=2->langchain) (3.4.1)\n",
      "Requirement already satisfied: idna<4,>=2.5 in d:\\desktop\\soft-engg-project-jan-2025-se-jan-21-main\\soft-engg-project-jan-2025-se-jan-21-main\\.venv\\lib\\site-packages (from requests<3,>=2->langchain) (3.10)\n",
      "Requirement already satisfied: urllib3<3,>=1.21.1 in d:\\desktop\\soft-engg-project-jan-2025-se-jan-21-main\\soft-engg-project-jan-2025-se-jan-21-main\\.venv\\lib\\site-packages (from requests<3,>=2->langchain) (2.3.0)\n",
      "Requirement already satisfied: certifi>=2017.4.17 in d:\\desktop\\soft-engg-project-jan-2025-se-jan-21-main\\soft-engg-project-jan-2025-se-jan-21-main\\.venv\\lib\\site-packages (from requests<3,>=2->langchain) (2025.1.31)\n",
      "Requirement already satisfied: greenlet!=0.4.17 in d:\\desktop\\soft-engg-project-jan-2025-se-jan-21-main\\soft-engg-project-jan-2025-se-jan-21-main\\.venv\\lib\\site-packages (from SQLAlchemy<3,>=1.4->langchain) (3.1.1)\n",
      "Requirement already satisfied: anyio in d:\\desktop\\soft-engg-project-jan-2025-se-jan-21-main\\soft-engg-project-jan-2025-se-jan-21-main\\.venv\\lib\\site-packages (from httpx<1,>=0.23.0->langsmith<0.4,>=0.1.17->langchain) (4.8.0)\n",
      "Requirement already satisfied: httpcore==1.* in d:\\desktop\\soft-engg-project-jan-2025-se-jan-21-main\\soft-engg-project-jan-2025-se-jan-21-main\\.venv\\lib\\site-packages (from httpx<1,>=0.23.0->langsmith<0.4,>=0.1.17->langchain) (1.0.7)\n",
      "Requirement already satisfied: h11<0.15,>=0.13 in d:\\desktop\\soft-engg-project-jan-2025-se-jan-21-main\\soft-engg-project-jan-2025-se-jan-21-main\\.venv\\lib\\site-packages (from httpcore==1.*->httpx<1,>=0.23.0->langsmith<0.4,>=0.1.17->langchain) (0.14.0)\n",
      "Requirement already satisfied: jsonpointer>=1.9 in d:\\desktop\\soft-engg-project-jan-2025-se-jan-21-main\\soft-engg-project-jan-2025-se-jan-21-main\\.venv\\lib\\site-packages (from jsonpatch<2.0,>=1.33->langchain-core<1.0.0,>=0.3.41->langchain) (3.0.0)\n",
      "Requirement already satisfied: sniffio>=1.1 in d:\\desktop\\soft-engg-project-jan-2025-se-jan-21-main\\soft-engg-project-jan-2025-se-jan-21-main\\.venv\\lib\\site-packages (from anyio->httpx<1,>=0.23.0->langsmith<0.4,>=0.1.17->langchain) (1.3.1)\n",
      "Note: you may need to restart the kernel to use updated packages.\n",
      "Requirement already satisfied: langchain_together in d:\\desktop\\soft-engg-project-jan-2025-se-jan-21-main\\soft-engg-project-jan-2025-se-jan-21-main\\.venv\\lib\\site-packages (0.3.0)\n",
      "Requirement already satisfied: aiohttp<4.0.0,>=3.9.1 in d:\\desktop\\soft-engg-project-jan-2025-se-jan-21-main\\soft-engg-project-jan-2025-se-jan-21-main\\.venv\\lib\\site-packages (from langchain_together) (3.11.13)\n",
      "Requirement already satisfied: langchain-core<0.4.0,>=0.3.29 in d:\\desktop\\soft-engg-project-jan-2025-se-jan-21-main\\soft-engg-project-jan-2025-se-jan-21-main\\.venv\\lib\\site-packages (from langchain_together) (0.3.41)\n",
      "Requirement already satisfied: langchain-openai<0.4,>=0.3 in d:\\desktop\\soft-engg-project-jan-2025-se-jan-21-main\\soft-engg-project-jan-2025-se-jan-21-main\\.venv\\lib\\site-packages (from langchain_together) (0.3.7)\n",
      "Requirement already satisfied: requests<3,>=2 in d:\\desktop\\soft-engg-project-jan-2025-se-jan-21-main\\soft-engg-project-jan-2025-se-jan-21-main\\.venv\\lib\\site-packages (from langchain_together) (2.32.3)\n",
      "Requirement already satisfied: aiohappyeyeballs>=2.3.0 in d:\\desktop\\soft-engg-project-jan-2025-se-jan-21-main\\soft-engg-project-jan-2025-se-jan-21-main\\.venv\\lib\\site-packages (from aiohttp<4.0.0,>=3.9.1->langchain_together) (2.4.8)\n",
      "Requirement already satisfied: aiosignal>=1.1.2 in d:\\desktop\\soft-engg-project-jan-2025-se-jan-21-main\\soft-engg-project-jan-2025-se-jan-21-main\\.venv\\lib\\site-packages (from aiohttp<4.0.0,>=3.9.1->langchain_together) (1.3.2)\n",
      "Requirement already satisfied: attrs>=17.3.0 in d:\\desktop\\soft-engg-project-jan-2025-se-jan-21-main\\soft-engg-project-jan-2025-se-jan-21-main\\.venv\\lib\\site-packages (from aiohttp<4.0.0,>=3.9.1->langchain_together) (25.1.0)\n",
      "Requirement already satisfied: frozenlist>=1.1.1 in d:\\desktop\\soft-engg-project-jan-2025-se-jan-21-main\\soft-engg-project-jan-2025-se-jan-21-main\\.venv\\lib\\site-packages (from aiohttp<4.0.0,>=3.9.1->langchain_together) (1.5.0)\n",
      "Requirement already satisfied: multidict<7.0,>=4.5 in d:\\desktop\\soft-engg-project-jan-2025-se-jan-21-main\\soft-engg-project-jan-2025-se-jan-21-main\\.venv\\lib\\site-packages (from aiohttp<4.0.0,>=3.9.1->langchain_together) (6.1.0)\n",
      "Requirement already satisfied: propcache>=0.2.0 in d:\\desktop\\soft-engg-project-jan-2025-se-jan-21-main\\soft-engg-project-jan-2025-se-jan-21-main\\.venv\\lib\\site-packages (from aiohttp<4.0.0,>=3.9.1->langchain_together) (0.3.0)\n",
      "Requirement already satisfied: yarl<2.0,>=1.17.0 in d:\\desktop\\soft-engg-project-jan-2025-se-jan-21-main\\soft-engg-project-jan-2025-se-jan-21-main\\.venv\\lib\\site-packages (from aiohttp<4.0.0,>=3.9.1->langchain_together) (1.18.3)\n",
      "Requirement already satisfied: langsmith<0.4,>=0.1.125 in d:\\desktop\\soft-engg-project-jan-2025-se-jan-21-main\\soft-engg-project-jan-2025-se-jan-21-main\\.venv\\lib\\site-packages (from langchain-core<0.4.0,>=0.3.29->langchain_together) (0.3.11)\n",
      "Requirement already satisfied: tenacity!=8.4.0,<10.0.0,>=8.1.0 in d:\\desktop\\soft-engg-project-jan-2025-se-jan-21-main\\soft-engg-project-jan-2025-se-jan-21-main\\.venv\\lib\\site-packages (from langchain-core<0.4.0,>=0.3.29->langchain_together) (9.0.0)\n",
      "Requirement already satisfied: jsonpatch<2.0,>=1.33 in d:\\desktop\\soft-engg-project-jan-2025-se-jan-21-main\\soft-engg-project-jan-2025-se-jan-21-main\\.venv\\lib\\site-packages (from langchain-core<0.4.0,>=0.3.29->langchain_together) (1.33)\n",
      "Requirement already satisfied: PyYAML>=5.3 in d:\\desktop\\soft-engg-project-jan-2025-se-jan-21-main\\soft-engg-project-jan-2025-se-jan-21-main\\.venv\\lib\\site-packages (from langchain-core<0.4.0,>=0.3.29->langchain_together) (6.0.2)\n",
      "Requirement already satisfied: packaging<25,>=23.2 in d:\\desktop\\soft-engg-project-jan-2025-se-jan-21-main\\soft-engg-project-jan-2025-se-jan-21-main\\.venv\\lib\\site-packages (from langchain-core<0.4.0,>=0.3.29->langchain_together) (24.2)\n",
      "Requirement already satisfied: typing-extensions>=4.7 in d:\\desktop\\soft-engg-project-jan-2025-se-jan-21-main\\soft-engg-project-jan-2025-se-jan-21-main\\.venv\\lib\\site-packages (from langchain-core<0.4.0,>=0.3.29->langchain_together) (4.12.2)\n",
      "Requirement already satisfied: pydantic<3.0.0,>=2.7.4 in d:\\desktop\\soft-engg-project-jan-2025-se-jan-21-main\\soft-engg-project-jan-2025-se-jan-21-main\\.venv\\lib\\site-packages (from langchain-core<0.4.0,>=0.3.29->langchain_together) (2.10.6)\n",
      "Requirement already satisfied: openai<2.0.0,>=1.58.1 in d:\\desktop\\soft-engg-project-jan-2025-se-jan-21-main\\soft-engg-project-jan-2025-se-jan-21-main\\.venv\\lib\\site-packages (from langchain-openai<0.4,>=0.3->langchain_together) (1.65.3)\n",
      "Requirement already satisfied: tiktoken<1,>=0.7 in d:\\desktop\\soft-engg-project-jan-2025-se-jan-21-main\\soft-engg-project-jan-2025-se-jan-21-main\\.venv\\lib\\site-packages (from langchain-openai<0.4,>=0.3->langchain_together) (0.9.0)\n",
      "Requirement already satisfied: charset-normalizer<4,>=2 in d:\\desktop\\soft-engg-project-jan-2025-se-jan-21-main\\soft-engg-project-jan-2025-se-jan-21-main\\.venv\\lib\\site-packages (from requests<3,>=2->langchain_together) (3.4.1)\n",
      "Requirement already satisfied: idna<4,>=2.5 in d:\\desktop\\soft-engg-project-jan-2025-se-jan-21-main\\soft-engg-project-jan-2025-se-jan-21-main\\.venv\\lib\\site-packages (from requests<3,>=2->langchain_together) (3.10)\n",
      "Requirement already satisfied: urllib3<3,>=1.21.1 in d:\\desktop\\soft-engg-project-jan-2025-se-jan-21-main\\soft-engg-project-jan-2025-se-jan-21-main\\.venv\\lib\\site-packages (from requests<3,>=2->langchain_together) (2.3.0)\n",
      "Requirement already satisfied: certifi>=2017.4.17 in d:\\desktop\\soft-engg-project-jan-2025-se-jan-21-main\\soft-engg-project-jan-2025-se-jan-21-main\\.venv\\lib\\site-packages (from requests<3,>=2->langchain_together) (2025.1.31)\n",
      "Requirement already satisfied: jsonpointer>=1.9 in d:\\desktop\\soft-engg-project-jan-2025-se-jan-21-main\\soft-engg-project-jan-2025-se-jan-21-main\\.venv\\lib\\site-packages (from jsonpatch<2.0,>=1.33->langchain-core<0.4.0,>=0.3.29->langchain_together) (3.0.0)\n",
      "Requirement already satisfied: httpx<1,>=0.23.0 in d:\\desktop\\soft-engg-project-jan-2025-se-jan-21-main\\soft-engg-project-jan-2025-se-jan-21-main\\.venv\\lib\\site-packages (from langsmith<0.4,>=0.1.125->langchain-core<0.4.0,>=0.3.29->langchain_together) (0.28.1)\n",
      "Requirement already satisfied: orjson<4.0.0,>=3.9.14 in d:\\desktop\\soft-engg-project-jan-2025-se-jan-21-main\\soft-engg-project-jan-2025-se-jan-21-main\\.venv\\lib\\site-packages (from langsmith<0.4,>=0.1.125->langchain-core<0.4.0,>=0.3.29->langchain_together) (3.10.15)\n",
      "Requirement already satisfied: requests-toolbelt<2.0.0,>=1.0.0 in d:\\desktop\\soft-engg-project-jan-2025-se-jan-21-main\\soft-engg-project-jan-2025-se-jan-21-main\\.venv\\lib\\site-packages (from langsmith<0.4,>=0.1.125->langchain-core<0.4.0,>=0.3.29->langchain_together) (1.0.0)\n",
      "Requirement already satisfied: zstandard<0.24.0,>=0.23.0 in d:\\desktop\\soft-engg-project-jan-2025-se-jan-21-main\\soft-engg-project-jan-2025-se-jan-21-main\\.venv\\lib\\site-packages (from langsmith<0.4,>=0.1.125->langchain-core<0.4.0,>=0.3.29->langchain_together) (0.23.0)\n",
      "Requirement already satisfied: anyio<5,>=3.5.0 in d:\\desktop\\soft-engg-project-jan-2025-se-jan-21-main\\soft-engg-project-jan-2025-se-jan-21-main\\.venv\\lib\\site-packages (from openai<2.0.0,>=1.58.1->langchain-openai<0.4,>=0.3->langchain_together) (4.8.0)\n",
      "Requirement already satisfied: distro<2,>=1.7.0 in d:\\desktop\\soft-engg-project-jan-2025-se-jan-21-main\\soft-engg-project-jan-2025-se-jan-21-main\\.venv\\lib\\site-packages (from openai<2.0.0,>=1.58.1->langchain-openai<0.4,>=0.3->langchain_together) (1.9.0)\n",
      "Requirement already satisfied: jiter<1,>=0.4.0 in d:\\desktop\\soft-engg-project-jan-2025-se-jan-21-main\\soft-engg-project-jan-2025-se-jan-21-main\\.venv\\lib\\site-packages (from openai<2.0.0,>=1.58.1->langchain-openai<0.4,>=0.3->langchain_together) (0.8.2)\n",
      "Requirement already satisfied: sniffio in d:\\desktop\\soft-engg-project-jan-2025-se-jan-21-main\\soft-engg-project-jan-2025-se-jan-21-main\\.venv\\lib\\site-packages (from openai<2.0.0,>=1.58.1->langchain-openai<0.4,>=0.3->langchain_together) (1.3.1)\n",
      "Requirement already satisfied: tqdm>4 in d:\\desktop\\soft-engg-project-jan-2025-se-jan-21-main\\soft-engg-project-jan-2025-se-jan-21-main\\.venv\\lib\\site-packages (from openai<2.0.0,>=1.58.1->langchain-openai<0.4,>=0.3->langchain_together) (4.67.1)\n",
      "Requirement already satisfied: annotated-types>=0.6.0 in d:\\desktop\\soft-engg-project-jan-2025-se-jan-21-main\\soft-engg-project-jan-2025-se-jan-21-main\\.venv\\lib\\site-packages (from pydantic<3.0.0,>=2.7.4->langchain-core<0.4.0,>=0.3.29->langchain_together) (0.7.0)\n",
      "Requirement already satisfied: pydantic-core==2.27.2 in d:\\desktop\\soft-engg-project-jan-2025-se-jan-21-main\\soft-engg-project-jan-2025-se-jan-21-main\\.venv\\lib\\site-packages (from pydantic<3.0.0,>=2.7.4->langchain-core<0.4.0,>=0.3.29->langchain_together) (2.27.2)\n",
      "Requirement already satisfied: regex>=2022.1.18 in d:\\desktop\\soft-engg-project-jan-2025-se-jan-21-main\\soft-engg-project-jan-2025-se-jan-21-main\\.venv\\lib\\site-packages (from tiktoken<1,>=0.7->langchain-openai<0.4,>=0.3->langchain_together) (2024.11.6)\n",
      "Requirement already satisfied: httpcore==1.* in d:\\desktop\\soft-engg-project-jan-2025-se-jan-21-main\\soft-engg-project-jan-2025-se-jan-21-main\\.venv\\lib\\site-packages (from httpx<1,>=0.23.0->langsmith<0.4,>=0.1.125->langchain-core<0.4.0,>=0.3.29->langchain_together) (1.0.7)\n",
      "Requirement already satisfied: h11<0.15,>=0.13 in d:\\desktop\\soft-engg-project-jan-2025-se-jan-21-main\\soft-engg-project-jan-2025-se-jan-21-main\\.venv\\lib\\site-packages (from httpcore==1.*->httpx<1,>=0.23.0->langsmith<0.4,>=0.1.125->langchain-core<0.4.0,>=0.3.29->langchain_together) (0.14.0)\n",
      "Requirement already satisfied: colorama in d:\\desktop\\soft-engg-project-jan-2025-se-jan-21-main\\soft-engg-project-jan-2025-se-jan-21-main\\.venv\\lib\\site-packages (from tqdm>4->openai<2.0.0,>=1.58.1->langchain-openai<0.4,>=0.3->langchain_together) (0.4.6)\n",
      "Note: you may need to restart the kernel to use updated packages.\n"
     ]
    }
   ],
   "source": [
    "%pip install langchain\n",
    "%pip install langchain_together"
   ]
  },
  {
   "cell_type": "code",
   "execution_count": 4,
   "metadata": {},
   "outputs": [],
   "source": [
    "\n",
    "from langchain_together import ChatTogether, TogetherEmbeddings\n",
    "from langchain.prompts import ChatPromptTemplate, MessagesPlaceholder\n",
    "from langchain.schema import SystemMessage\n",
    "from langchain.memory import ConversationBufferMemory\n",
    "from langchain.chains import LLMChain"
   ]
  },
  {
   "cell_type": "code",
   "execution_count": null,
   "metadata": {},
   "outputs": [],
   "source": [
    "\n",
    "llm = ChatTogether(\n",
    "    model=\"deepseek-ai/DeepSeek-V3\",\n",
    "    temperature=0,\n",
    "    streaming=True,\n",
    ")"
   ]
  },
  {
   "cell_type": "code",
   "execution_count": null,
   "metadata": {},
   "outputs": [],
   "source": [
    "system_message = SystemMessage(\n",
    "    content=\"\"\"You are Autobot, an IITM BS degree virtual assistant designed to help students navigate the BS Data Science program.  \n",
    "\n",
    "    Your role is to:  \n",
    "    - Assist students with understanding course concepts and guidelines.  \n",
    "    - Provide explanations, hints, and study strategies without giving direct answers.  \n",
    "    - Help students locate relevant sections in their course materials.  \n",
    "    - Encourage academic integrity by guiding students toward self-learning.  \n",
    "\n",
    "    **Guidelines:**  \n",
    "    - DO NOT provide direct answers to assignments, quizzes, or exams.  \n",
    "    - DO NOT generate or suggest additional resources—only the TA or instructor bot can do that.  \n",
    "    - Use only the retrieved context to answer questions. If the information is unavailable, say, \"I don't have that information.\"  \n",
    "    - If a student asks for a resource, politely inform them that TAs or instructors can provide those.  \n",
    "    - Maintain a professional yet supportive tone to encourage learning.  \n",
    "\n",
    "    Your goal is to **assist students in learning while maintaining academic integrity**.  \n",
    "    \"\"\"\n",
    ")\n"
   ]
  },
  {
   "cell_type": "code",
   "execution_count": null,
   "metadata": {},
   "outputs": [],
   "source": [
    "prompt = ChatPromptTemplate.from_messages([\n",
    "    system_message,  # System prompt\n",
    "    MessagesPlaceholder(variable_name=\"retrieved_context\"),\n",
    "    (\"human\", \"{user_query}\") \n",
    "])"
   ]
  },
  {
   "cell_type": "code",
   "execution_count": null,
   "metadata": {},
   "outputs": [],
   "source": [
    "prompt"
   ]
  },
  {
   "cell_type": "code",
   "execution_count": null,
   "metadata": {},
   "outputs": [],
   "source": [
    "autobot = prompt | llm"
   ]
  },
  {
   "cell_type": "code",
   "execution_count": null,
   "metadata": {},
   "outputs": [],
   "source": [
    "%pip install -U langchain-community"
   ]
  },
  {
   "cell_type": "code",
   "execution_count": null,
   "metadata": {},
   "outputs": [],
   "source": [
    "\n",
    "from langchain.vectorstores import FAISS\n",
    "from langchain.embeddings import HuggingFaceEmbeddings\n",
    "from langchain.document_loaders import TextLoader\n",
    "from langchain.text_splitter import RecursiveCharacterTextSplitter"
   ]
  },
  {
   "cell_type": "code",
   "execution_count": null,
   "metadata": {},
   "outputs": [],
   "source": [
    "loader = TextLoader(\"./assets/Intro-to-python.md\")\n",
    "documents = loader.load()\n",
    "\n"
   ]
  },
  {
   "cell_type": "code",
   "execution_count": null,
   "metadata": {},
   "outputs": [],
   "source": [
    "text_splitter = RecursiveCharacterTextSplitter(\n",
    "    chunk_size = 720 , chunk_overlap = 72\n",
    ")\n",
    "chunks = text_splitter.split_documents(documents)"
   ]
  },
  {
   "cell_type": "code",
   "execution_count": null,
   "metadata": {},
   "outputs": [],
   "source": [
    "chunks[0].page_content"
   ]
  },
  {
   "cell_type": "code",
   "execution_count": null,
   "metadata": {},
   "outputs": [],
   "source": [
    "embedding_model = TogetherEmbeddings()"
   ]
  },
  {
   "cell_type": "code",
   "execution_count": null,
   "metadata": {},
   "outputs": [],
   "source": [
    "vector_store = FAISS.from_documents(chunks , embedding_model)"
   ]
  },
  {
   "cell_type": "code",
   "execution_count": null,
   "metadata": {},
   "outputs": [],
   "source": [
    "\n",
    "def reterive_context(user_query):\n",
    "    \n",
    "    docs = vector_store.similarity_search(user_query, k=3)\n",
    "    content =  \"\\n\".join([doc.page_content for doc in docs])\n",
    "    return [SystemMessage(content=content)]\n"
   ]
  },
  {
   "cell_type": "code",
   "execution_count": null,
   "metadata": {},
   "outputs": [],
   "source": [
    "print(reterive_context(\"Can you tell me about the grading of the python course\"))"
   ]
  },
  {
   "cell_type": "code",
   "execution_count": null,
   "metadata": {},
   "outputs": [],
   "source": [
    "def call_autobot(user_query,reterived_context):\n",
    "   return autobot.invoke({\"user_query\":user_query,\"retrieved_context\":reterived_context})\n",
    "    "
   ]
  },
  {
   "cell_type": "code",
   "execution_count": null,
   "metadata": {},
   "outputs": [],
   "source": [
    "user_query=\"i want add a resource on variable\"\n",
    "reterived_context = reterive_context(user_query)\n",
    "response = call_autobot(user_query,reterived_context)\n",
    "print(response.content)"
   ]
  },
  {
   "cell_type": "code",
   "execution_count": null,
   "metadata": {},
   "outputs": [],
   "source": []
  },
  {
   "cell_type": "code",
   "execution_count": null,
   "metadata": {},
   "outputs": [],
   "source": []
  },
  {
   "cell_type": "code",
   "execution_count": null,
   "metadata": {},
   "outputs": [],
   "source": []
  }
 ],
 "metadata": {
  "kernelspec": {
   "display_name": ".venv",
   "language": "python",
   "name": "python3"
  },
  "language_info": {
   "codemirror_mode": {
    "name": "ipython",
    "version": 3
   },
   "file_extension": ".py",
   "mimetype": "text/x-python",
   "name": "python",
   "nbconvert_exporter": "python",
   "pygments_lexer": "ipython3",
   "version": "3.12.4"
  }
 },
 "nbformat": 4,
 "nbformat_minor": 2
}
